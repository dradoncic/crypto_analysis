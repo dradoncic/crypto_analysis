{
 "cells": [
  {
   "cell_type": "code",
   "execution_count": 1,
   "metadata": {},
   "outputs": [],
   "source": [
    "import pandas as pd\n",
    "import numpy as np\n",
    "import matplotlib.pyplot as plt"
   ]
  },
  {
   "cell_type": "code",
   "execution_count": 32,
   "metadata": {},
   "outputs": [],
   "source": [
    "bitcoin = pd.read_csv(r'../data/Bitcoin Historical Data.csv')\n",
    "binance = pd.read_csv(r'../data/BNB Historical Data.csv')\n",
    "cardano = pd.read_csv(r'../data/Cardano Historical Data.csv')\n",
    "ethereum = pd.read_csv(r'../data/Ethereum Historical Data.csv')\n",
    "solana = pd.read_csv(r'../data/Solana Historical Data.csv')\n",
    "xrp = pd.read_csv(r'../data/XRP Historical Data.csv')"
   ]
  },
  {
   "cell_type": "code",
   "execution_count": 34,
   "metadata": {},
   "outputs": [
    {
     "name": "stdout",
     "output_type": "stream",
     "text": [
      "Earliest Date: 2020-07-13 00:00:00\n"
     ]
    }
   ],
   "source": [
    "dfs = [bitcoin, binance, cardano, ethereum, solana, xrp]\n",
    "\n",
    "dates = [set(pd.to_datetime(df['Date'])) for df in dfs]\n",
    "\n",
    "common = set.intersection(*dates)\n",
    "\n",
    "if common:\n",
    "    earliest = min(common)\n",
    "    print(f'Earliest Date: {earliest}')\n",
    "else:\n",
    "    print(\"No common dates.\")"
   ]
  },
  {
   "cell_type": "code",
   "execution_count": 35,
   "metadata": {},
   "outputs": [],
   "source": [
    "new_dfs = [\n",
    "    df[pd.to_datetime(df['Date']) >= earliest].reset_index(drop=True) for df in dfs\n",
    "]"
   ]
  },
  {
   "cell_type": "code",
   "execution_count": 36,
   "metadata": {},
   "outputs": [
    {
     "data": {
      "text/plain": [
       "[Date\n",
       " 12/11/2024    101,329.1\n",
       " 12/10/2024     96,600.3\n",
       " 12/09/2024     97,359.4\n",
       " 12/08/2024    101,115.8\n",
       " 12/07/2024     99,837.0\n",
       "                 ...    \n",
       " 07/17/2020      9,155.8\n",
       " 07/16/2020      9,135.3\n",
       " 07/15/2020      9,198.7\n",
       " 07/14/2020      9,253.4\n",
       " 07/13/2020      9,243.6\n",
       " Name: Bitcoin, Length: 1613, dtype: object,\n",
       " Date\n",
       " 12/11/2024    711.12\n",
       " 12/10/2024    676.92\n",
       " 12/09/2024    690.02\n",
       " 12/08/2024    741.84\n",
       " 12/07/2024    749.46\n",
       "                ...  \n",
       " 07/17/2020     17.07\n",
       " 07/16/2020     17.15\n",
       " 07/15/2020     17.63\n",
       " 07/14/2020     18.09\n",
       " 07/13/2020     18.42\n",
       " Name: Binance, Length: 1613, dtype: float64,\n",
       " Date\n",
       " 12/11/2024    1.0884\n",
       " 12/10/2024    1.0216\n",
       " 12/09/2024    1.0068\n",
       " 12/08/2024    1.1933\n",
       " 12/07/2024    1.2105\n",
       "                ...  \n",
       " 07/17/2020    0.1222\n",
       " 07/16/2020    0.1260\n",
       " 07/15/2020    0.1306\n",
       " 07/14/2020    0.1324\n",
       " 07/13/2020    0.1244\n",
       " Name: Cardano, Length: 1613, dtype: float64,\n",
       " Date\n",
       " 12/11/2024    3,825.29\n",
       " 12/10/2024    3,628.94\n",
       " 12/09/2024    3,718.98\n",
       " 12/08/2024    4,002.91\n",
       " 12/07/2024    3,996.24\n",
       "                 ...   \n",
       " 07/17/2020      232.75\n",
       " 07/16/2020      233.65\n",
       " 07/15/2020      238.62\n",
       " 07/14/2020      240.50\n",
       " 07/13/2020      239.73\n",
       " Name: Ethereum, Length: 1613, dtype: object,\n",
       " Date\n",
       " 12/11/2024    228.356\n",
       " 12/10/2024    213.680\n",
       " 12/09/2024    217.012\n",
       " 12/08/2024    237.097\n",
       " 12/07/2024    238.379\n",
       "                ...   \n",
       " 07/22/2020      1.046\n",
       " 07/21/2020      1.004\n",
       " 07/15/2020      1.383\n",
       " 07/14/2020      1.115\n",
       " 07/13/2020      1.279\n",
       " Name: Solana, Length: 1606, dtype: float64,\n",
       " Date\n",
       " 12/11/2024    2.4346\n",
       " 12/10/2024    2.3715\n",
       " 12/09/2024    2.2191\n",
       " 12/08/2024    2.6037\n",
       " 12/07/2024    2.4936\n",
       "                ...  \n",
       " 07/17/2020    0.1945\n",
       " 07/16/2020    0.1944\n",
       " 07/15/2020    0.1972\n",
       " 07/14/2020    0.1991\n",
       " 07/13/2020    0.1987\n",
       " Name: XRP, Length: 1612, dtype: float64]"
      ]
     },
     "execution_count": 36,
     "metadata": {},
     "output_type": "execute_result"
    }
   ],
   "source": [
    "assets = ['Bitcoin', 'Binance', 'Cardano', 'Ethereum', 'Solana', 'XRP']\n",
    "prices = []\n",
    "\n",
    "for i in range(len(assets)):\n",
    "    prices.append((new_dfs[i]).set_index('Date')['Price'].rename(assets[i]))\n",
    "\n",
    "prices"
   ]
  },
  {
   "cell_type": "code",
   "execution_count": 37,
   "metadata": {},
   "outputs": [
    {
     "data": {
      "text/html": [
       "<div>\n",
       "<style scoped>\n",
       "    .dataframe tbody tr th:only-of-type {\n",
       "        vertical-align: middle;\n",
       "    }\n",
       "\n",
       "    .dataframe tbody tr th {\n",
       "        vertical-align: top;\n",
       "    }\n",
       "\n",
       "    .dataframe thead th {\n",
       "        text-align: right;\n",
       "    }\n",
       "</style>\n",
       "<table border=\"1\" class=\"dataframe\">\n",
       "  <thead>\n",
       "    <tr style=\"text-align: right;\">\n",
       "      <th></th>\n",
       "      <th>Bitcoin</th>\n",
       "      <th>Binance</th>\n",
       "      <th>Cardano</th>\n",
       "      <th>Ethereum</th>\n",
       "      <th>Solana</th>\n",
       "      <th>XRP</th>\n",
       "    </tr>\n",
       "    <tr>\n",
       "      <th>Date</th>\n",
       "      <th></th>\n",
       "      <th></th>\n",
       "      <th></th>\n",
       "      <th></th>\n",
       "      <th></th>\n",
       "      <th></th>\n",
       "    </tr>\n",
       "  </thead>\n",
       "  <tbody>\n",
       "    <tr>\n",
       "      <th>12/11/2024</th>\n",
       "      <td>101,329.1</td>\n",
       "      <td>711.12</td>\n",
       "      <td>1.0884</td>\n",
       "      <td>3,825.29</td>\n",
       "      <td>228.356</td>\n",
       "      <td>2.4346</td>\n",
       "    </tr>\n",
       "    <tr>\n",
       "      <th>12/10/2024</th>\n",
       "      <td>96,600.3</td>\n",
       "      <td>676.92</td>\n",
       "      <td>1.0216</td>\n",
       "      <td>3,628.94</td>\n",
       "      <td>213.680</td>\n",
       "      <td>2.3715</td>\n",
       "    </tr>\n",
       "    <tr>\n",
       "      <th>12/09/2024</th>\n",
       "      <td>97,359.4</td>\n",
       "      <td>690.02</td>\n",
       "      <td>1.0068</td>\n",
       "      <td>3,718.98</td>\n",
       "      <td>217.012</td>\n",
       "      <td>2.2191</td>\n",
       "    </tr>\n",
       "    <tr>\n",
       "      <th>12/08/2024</th>\n",
       "      <td>101,115.8</td>\n",
       "      <td>741.84</td>\n",
       "      <td>1.1933</td>\n",
       "      <td>4,002.91</td>\n",
       "      <td>237.097</td>\n",
       "      <td>2.6037</td>\n",
       "    </tr>\n",
       "    <tr>\n",
       "      <th>12/07/2024</th>\n",
       "      <td>99,837.0</td>\n",
       "      <td>749.46</td>\n",
       "      <td>1.2105</td>\n",
       "      <td>3,996.24</td>\n",
       "      <td>238.379</td>\n",
       "      <td>2.4936</td>\n",
       "    </tr>\n",
       "    <tr>\n",
       "      <th>...</th>\n",
       "      <td>...</td>\n",
       "      <td>...</td>\n",
       "      <td>...</td>\n",
       "      <td>...</td>\n",
       "      <td>...</td>\n",
       "      <td>...</td>\n",
       "    </tr>\n",
       "    <tr>\n",
       "      <th>07/17/2020</th>\n",
       "      <td>9,155.8</td>\n",
       "      <td>17.07</td>\n",
       "      <td>0.1222</td>\n",
       "      <td>232.75</td>\n",
       "      <td>NaN</td>\n",
       "      <td>0.1945</td>\n",
       "    </tr>\n",
       "    <tr>\n",
       "      <th>07/16/2020</th>\n",
       "      <td>9,135.3</td>\n",
       "      <td>17.15</td>\n",
       "      <td>0.1260</td>\n",
       "      <td>233.65</td>\n",
       "      <td>NaN</td>\n",
       "      <td>0.1944</td>\n",
       "    </tr>\n",
       "    <tr>\n",
       "      <th>07/15/2020</th>\n",
       "      <td>9,198.7</td>\n",
       "      <td>17.63</td>\n",
       "      <td>0.1306</td>\n",
       "      <td>238.62</td>\n",
       "      <td>1.383</td>\n",
       "      <td>0.1972</td>\n",
       "    </tr>\n",
       "    <tr>\n",
       "      <th>07/14/2020</th>\n",
       "      <td>9,253.4</td>\n",
       "      <td>18.09</td>\n",
       "      <td>0.1324</td>\n",
       "      <td>240.50</td>\n",
       "      <td>1.115</td>\n",
       "      <td>0.1991</td>\n",
       "    </tr>\n",
       "    <tr>\n",
       "      <th>07/13/2020</th>\n",
       "      <td>9,243.6</td>\n",
       "      <td>18.42</td>\n",
       "      <td>0.1244</td>\n",
       "      <td>239.73</td>\n",
       "      <td>1.279</td>\n",
       "      <td>0.1987</td>\n",
       "    </tr>\n",
       "  </tbody>\n",
       "</table>\n",
       "<p>1613 rows × 6 columns</p>\n",
       "</div>"
      ],
      "text/plain": [
       "              Bitcoin  Binance  Cardano  Ethereum   Solana     XRP\n",
       "Date                                                              \n",
       "12/11/2024  101,329.1   711.12   1.0884  3,825.29  228.356  2.4346\n",
       "12/10/2024   96,600.3   676.92   1.0216  3,628.94  213.680  2.3715\n",
       "12/09/2024   97,359.4   690.02   1.0068  3,718.98  217.012  2.2191\n",
       "12/08/2024  101,115.8   741.84   1.1933  4,002.91  237.097  2.6037\n",
       "12/07/2024   99,837.0   749.46   1.2105  3,996.24  238.379  2.4936\n",
       "...               ...      ...      ...       ...      ...     ...\n",
       "07/17/2020    9,155.8    17.07   0.1222    232.75      NaN  0.1945\n",
       "07/16/2020    9,135.3    17.15   0.1260    233.65      NaN  0.1944\n",
       "07/15/2020    9,198.7    17.63   0.1306    238.62    1.383  0.1972\n",
       "07/14/2020    9,253.4    18.09   0.1324    240.50    1.115  0.1991\n",
       "07/13/2020    9,243.6    18.42   0.1244    239.73    1.279  0.1987\n",
       "\n",
       "[1613 rows x 6 columns]"
      ]
     },
     "execution_count": 37,
     "metadata": {},
     "output_type": "execute_result"
    }
   ],
   "source": [
    "combine_prices = pd.concat(prices, axis=1)\n",
    "combine_prices"
   ]
  },
  {
   "cell_type": "code",
   "execution_count": 39,
   "metadata": {},
   "outputs": [
    {
     "data": {
      "text/plain": [
       "Bitcoin     0\n",
       "Binance     0\n",
       "Cardano     0\n",
       "Ethereum    0\n",
       "Solana      7\n",
       "XRP         1\n",
       "dtype: int64"
      ]
     },
     "execution_count": 39,
     "metadata": {},
     "output_type": "execute_result"
    }
   ],
   "source": [
    "combine_prices.isnull().sum()"
   ]
  },
  {
   "cell_type": "code",
   "execution_count": 40,
   "metadata": {},
   "outputs": [
    {
     "data": {
      "text/plain": [
       "Bitcoin     0\n",
       "Binance     0\n",
       "Cardano     0\n",
       "Ethereum    0\n",
       "Solana      0\n",
       "XRP         0\n",
       "dtype: int64"
      ]
     },
     "execution_count": 40,
     "metadata": {},
     "output_type": "execute_result"
    }
   ],
   "source": [
    "cleaned_prices = combine_prices.dropna()\n",
    "cleaned_prices.isnull().sum()"
   ]
  },
  {
   "cell_type": "code",
   "execution_count": null,
   "metadata": {},
   "outputs": [],
   "source": [
    "cleaned_prices.to_csv('Historical Crypto Prices')"
   ]
  }
 ],
 "metadata": {
  "kernelspec": {
   "display_name": "venv",
   "language": "python",
   "name": "python3"
  },
  "language_info": {
   "codemirror_mode": {
    "name": "ipython",
    "version": 3
   },
   "file_extension": ".py",
   "mimetype": "text/x-python",
   "name": "python",
   "nbconvert_exporter": "python",
   "pygments_lexer": "ipython3",
   "version": "3.13.0"
  }
 },
 "nbformat": 4,
 "nbformat_minor": 2
}
